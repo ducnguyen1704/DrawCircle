{
 "cells": [
  {
   "cell_type": "markdown",
   "metadata": {},
   "source": [
    "# Vẽ hình chữ nhật"
   ]
  },
  {
   "cell_type": "code",
   "execution_count": 1,
   "metadata": {},
   "outputs": [],
   "source": [
    "import turtle"
   ]
  },
  {
   "cell_type": "code",
   "execution_count": 2,
   "metadata": {},
   "outputs": [],
   "source": [
    "t = turtle.Turtle()"
   ]
  },
  {
   "cell_type": "code",
   "execution_count": 3,
   "metadata": {},
   "outputs": [],
   "source": [
    "t.penup()\n",
    "t.goto(-100,0)\n",
    "t.pendown()"
   ]
  },
  {
   "cell_type": "code",
   "execution_count": 4,
   "metadata": {},
   "outputs": [
    {
     "name": "stdout",
     "output_type": "stream",
     "text": [
      "Mời nhập chiều dài chữ nhật: 300\n",
      "Mời nhập chiều rộng chữ nhật: 100\n",
      "Nhập màu của hình chữ nhật: red\n"
     ]
    }
   ],
   "source": [
    "m = int(input('Mời nhập chiều dài chữ nhật: '))\n",
    "n = int(input('Mời nhập chiều rộng chữ nhật: '))\n",
    "t.pensize(3)\n",
    "t.pencolor(\"green\") # viền là xanh\n",
    "col = input('Nhập màu của hình chữ nhật: ')"
   ]
  },
  {
   "cell_type": "code",
   "execution_count": 5,
   "metadata": {},
   "outputs": [],
   "source": [
    "#đặt màu nền cho hình tròn là màu vàng\n",
    "t.fillcolor (col)\n",
    "t.begin_fill()"
   ]
  },
  {
   "cell_type": "code",
   "execution_count": 6,
   "metadata": {},
   "outputs": [],
   "source": [
    "for i in range(2):\n",
    "    t.forward(m)\n",
    "    t.left(90)\n",
    "    t.forward(n)\n",
    "    t.left(90)\n",
    "t.end_fill()"
   ]
  },
  {
   "cell_type": "code",
   "execution_count": 21,
   "metadata": {},
   "outputs": [],
   "source": []
  },
  {
   "cell_type": "code",
   "execution_count": null,
   "metadata": {},
   "outputs": [],
   "source": []
  }
 ],
 "metadata": {
  "kernelspec": {
   "display_name": "Python 3",
   "language": "python",
   "name": "python3"
  },
  "language_info": {
   "codemirror_mode": {
    "name": "ipython",
    "version": 3
   },
   "file_extension": ".py",
   "mimetype": "text/x-python",
   "name": "python",
   "nbconvert_exporter": "python",
   "pygments_lexer": "ipython3",
   "version": "3.7.6"
  }
 },
 "nbformat": 4,
 "nbformat_minor": 4
}
